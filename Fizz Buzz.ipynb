{
 "cells": [
  {
   "cell_type": "markdown",
   "metadata": {},
   "source": [
    "## Fizz Buzz -  Cybera Sample Worksheet"
   ]
  },
  {
   "cell_type": "markdown",
   "metadata": {},
   "source": [
    "This worksheet is made to be used for an interview process at **Cybera**. <br>Please feel free to modify or edit this worksheet if needed. No permission required. "
   ]
  },
  {
   "cell_type": "markdown",
   "metadata": {},
   "source": [
    "**Fizz Buzz**\n",
    "> Print integers 1 to N, but print *“Fizz”* if an integer is divisible by 3, *“Buzz”* if an integer is divisible by 5, and *“FizzBuzz”* if an integer is divisible by both 3 and 5.\n",
    "\n",
    "Link to LeetCode problem description can be found [here](https://leetcode.com/problems/fizz-buzz/)."
   ]
  },
  {
   "cell_type": "markdown",
   "metadata": {},
   "source": [
    "**List of Functions Used:**\n",
    "- `modulo()`\n",
    "- `for ... in range (..., ...) loop`\n",
    "- `print()`"
   ]
  },
  {
   "cell_type": "markdown",
   "metadata": {},
   "source": [
    "Before we start diving into a solution, let's think about how we should approach this problem. In this problem, there are three main tasks that need to be done:\n",
    "- print **Fizz** if an integer is a multiple of 3\n",
    "- print **Buzz** if an integer is a multiple of 5\n",
    "- print **FizzBuzz** if an integer is a multiple of 3 and 5"
   ]
  },
  {
   "cell_type": "markdown",
   "metadata": {},
   "source": [
    "### I. `Modulo()` Function"
   ]
  },
  {
   "cell_type": "markdown",
   "metadata": {},
   "source": [
    "First, let's learn about how we should use `modulo()`. \n",
    "<br> `modulo()` function uses **%** operator, preceded and followed by two integers. Let's call the first integer *a*. By using a function **a % b**, we are dividing the first integer by the second integer, *b*. For a test case, we will try dividing 10 by 2. "
   ]
  },
  {
   "cell_type": "code",
   "execution_count": 14,
   "metadata": {},
   "outputs": [],
   "source": [
    "# Uncomment this code and run the cell. \n",
    "# print(10 % 5) "
   ]
  },
  {
   "cell_type": "markdown",
   "metadata": {},
   "source": [
    "Oh, no! Why are we getting **0** as an answer? Shouldn't we be getting **5** for the answer? You guessed it right, but what `modulo()` funciton does is not to simply execute a division. It is a function that returns you a remainder after the division. Since 2 fits into 10 exactly 5 times without any remainder, our `modulo()` function returns a value of **0**.\n",
    "\n",
    "Now, let's try this:"
   ]
  },
  {
   "cell_type": "code",
   "execution_count": 15,
   "metadata": {},
   "outputs": [],
   "source": [
    "# Uncomment this code and run the cell. \n",
    "# print(10 % 4) "
   ]
  },
  {
   "cell_type": "markdown",
   "metadata": {},
   "source": [
    "What do you see? Now we see a return value of 2. Here, `modulo()` function is telling us that 4 fits into 10 exactly twice, and there is a **leftover value (remainder)** of 2. "
   ]
  },
  {
   "cell_type": "markdown",
   "metadata": {},
   "source": [
    "Now, for a practice, try dividing 15 by 2 using `modulo()` function. What do you expect to find?"
   ]
  },
  {
   "cell_type": "code",
   "execution_count": 39,
   "metadata": {},
   "outputs": [],
   "source": [
    "# Uncomment the code below and fill in the missing parts. \n",
    "# To see an answer, click the three dots below and run the cell. \n",
    "\n",
    "# print(... % ...)"
   ]
  },
  {
   "cell_type": "code",
   "execution_count": 40,
   "metadata": {
    "collapsed": true,
    "jupyter": {
     "outputs_hidden": true,
     "source_hidden": true
    }
   },
   "outputs": [
    {
     "name": "stdout",
     "output_type": "stream",
     "text": [
      "1\n"
     ]
    }
   ],
   "source": [
    "print(15 % 2)"
   ]
  },
  {
   "cell_type": "markdown",
   "metadata": {},
   "source": [
    "### II. `For... in range (..., ...):` Function"
   ]
  },
  {
   "cell_type": "markdown",
   "metadata": {},
   "source": [
    "Now, we can move ahead and learn about the `for loop`. The `for loop` function is one of the most commonly used function in Python programming. Let's take a look at the function's parameter. We have `... in range(...,...)` in the parameter, but what does that mean? Try running the cell below and see what happens."
   ]
  },
  {
   "cell_type": "code",
   "execution_count": 46,
   "metadata": {},
   "outputs": [
    {
     "name": "stdout",
     "output_type": "stream",
     "text": [
      "Now I am at 1\n",
      "Now I am at 2\n",
      "Now I am at 3\n",
      "Now I am at 4\n",
      "Now I am at 5\n"
     ]
    }
   ],
   "source": [
    "for num in range (1, 6):\n",
    "    print (\"Now I am at\", num)"
   ]
  },
  {
   "cell_type": "markdown",
   "metadata": {},
   "source": [
    "As you see, **\"Now I am at ...\"** statement has been applied to every number in the loop. Keep in mind that in `range(a, b)`, the loop stops right before *b*. So, That's why the range above is set as `range(1, 6)`. "
   ]
  },
  {
   "cell_type": "markdown",
   "metadata": {},
   "source": [
    "As an exercise, let's try printing out **\"Your number is: \"** statement from number 1 to 4. "
   ]
  },
  {
   "cell_type": "code",
   "execution_count": 47,
   "metadata": {},
   "outputs": [],
   "source": [
    "# Uncomment the code below and fill in the missing parts. \n",
    "# To see an answer, click the three dots below and run the cell. \n",
    "\n",
    "# for num in range (..., ...):\n",
    "#     print(\"Your number is: \", ...)"
   ]
  },
  {
   "cell_type": "code",
   "execution_count": 48,
   "metadata": {
    "collapsed": true,
    "jupyter": {
     "outputs_hidden": true,
     "source_hidden": true
    }
   },
   "outputs": [
    {
     "name": "stdout",
     "output_type": "stream",
     "text": [
      "Your number is:  1\n",
      "Your number is:  2\n",
      "Your number is:  3\n",
      "Your number is:  4\n"
     ]
    }
   ],
   "source": [
    "for num in range (1, 5):\n",
    "    print(\"Your number is: \", num)"
   ]
  },
  {
   "cell_type": "markdown",
   "metadata": {},
   "source": [
    "Well done! Now we have can attempt to tackle the actual **Fizz Buzz** problem. "
   ]
  },
  {
   "cell_type": "markdown",
   "metadata": {},
   "source": [
    "### III. **Fizz Buzz** Solution"
   ]
  },
  {
   "cell_type": "markdown",
   "metadata": {},
   "source": [
    "Let's revisit out three tasks that need to be done. They are:\n",
    "- print **Fizz** if an integer is a multiple of 3\n",
    "- print **Buzz** if an integer is a multiple of 5\n",
    "- print **FizzBuzz** if an integer is a multiple of 3 and 5\n"
   ]
  },
  {
   "cell_type": "markdown",
   "metadata": {},
   "source": [
    "As we learned above, we can use `modulo()` function and `for ... in range(..., ...)` function to solve the problem. For our case, we will set our starting number as 1 and end number as 30. "
   ]
  },
  {
   "cell_type": "code",
   "execution_count": null,
   "metadata": {},
   "outputs": [],
   "source": [
    "# Uncomment the code below and fill in the missing parts. \n",
    "# To see an answer, click the three dots below and run the cell. \n",
    "\n",
    "# def fizzBuzz(..., ...):\n",
    "#     for num in range (..., ...):\n",
    "#         if num % ... == 0 and num % 15 != 0:\n",
    "#             print (\"Fizz!\")\n",
    "#         if num % ... == 0 and num % 15 != 0:\n",
    "#             print (\"Buzz!\")\n",
    "#         if num % ... == 0 and num % ... == 0:\n",
    "#             print (\"FizzBuzz!\")\n",
    "#         elif num % 3 != 0 and num % 5 != 0 and (num % 15 != 0):\n",
    "#             print (...)\n",
    "\n",
    "# fizzBuzz(1, 31)"
   ]
  },
  {
   "cell_type": "code",
   "execution_count": 65,
   "metadata": {
    "collapsed": true,
    "jupyter": {
     "outputs_hidden": true,
     "source_hidden": true
    }
   },
   "outputs": [
    {
     "name": "stdout",
     "output_type": "stream",
     "text": [
      "1\n",
      "2\n",
      "Fizz!\n",
      "4\n",
      "Buzz!\n",
      "Fizz!\n",
      "7\n",
      "8\n",
      "Fizz!\n",
      "Buzz!\n",
      "11\n",
      "Fizz!\n",
      "13\n",
      "14\n",
      "FizzBuzz!\n",
      "16\n",
      "17\n",
      "Fizz!\n",
      "19\n",
      "Buzz!\n",
      "Fizz!\n",
      "22\n",
      "23\n",
      "Fizz!\n",
      "Buzz!\n",
      "26\n",
      "Fizz!\n",
      "28\n",
      "29\n",
      "FizzBuzz!\n"
     ]
    }
   ],
   "source": [
    "def fizzBuzz(start, end):\n",
    "    for num in range (start, end):\n",
    "        if num % 3 == 0 and num % 15 != 0:\n",
    "            print (\"Fizz!\")\n",
    "        if num % 5 == 0 and num % 15 != 0:\n",
    "            print (\"Buzz!\")\n",
    "        if num % 3 == 0 and num % 5 == 0:\n",
    "            print (\"FizzBuzz!\")\n",
    "        elif num % 3 != 0 and num % 5 != 0 and (num % 15 != 0):\n",
    "            print (num)\n",
    "    \n",
    "\n",
    "fizzBuzz(1, 31)"
   ]
  },
  {
   "cell_type": "markdown",
   "metadata": {},
   "source": [
    "### Congratulation! \n",
    "**You have finished this worksheet successfully!**\n",
    "Hopefully you enjoyed it. <br>If you have any questions, please feel free to reach out!"
   ]
  }
 ],
 "metadata": {
  "kernelspec": {
   "display_name": "Python 3",
   "language": "python",
   "name": "python3"
  },
  "language_info": {
   "codemirror_mode": {
    "name": "ipython",
    "version": 3
   },
   "file_extension": ".py",
   "mimetype": "text/x-python",
   "name": "python",
   "nbconvert_exporter": "python",
   "pygments_lexer": "ipython3",
   "version": "3.8.5"
  }
 },
 "nbformat": 4,
 "nbformat_minor": 4
}
